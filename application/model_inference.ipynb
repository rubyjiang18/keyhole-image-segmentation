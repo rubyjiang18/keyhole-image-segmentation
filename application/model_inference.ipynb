{
  "cells": [
    {
      "cell_type": "markdown",
      "metadata": {
        "id": "o86gn1nG6DQ3"
      },
      "source": [
        "\n",
        "\n",
        "### Image segementaion model train 2022 Nov\n",
        "\n",
        "\n"
      ]
    },
    {
      "cell_type": "markdown",
      "source": [
        "## 1. Import packages"
      ],
      "metadata": {
        "id": "8Yj608dbS6E3"
      }
    },
    {
      "cell_type": "code",
      "execution_count": null,
      "metadata": {
        "id": "6WblwuyYcJzm"
      },
      "outputs": [],
      "source": [
        "!pip install torchvision --upgrade\n",
        "!pip install grad-cam\n",
        "!pip install timm\n",
        "!pip install imagecodecs\n",
        "!pip install pytorchtools\n",
        "!pip install git+https://github.com/qubvel/segmentation_models.pytorch"
      ]
    },
    {
      "cell_type": "code",
      "execution_count": null,
      "metadata": {
        "id": "lME-yOdUPlEO"
      },
      "outputs": [],
      "source": [
        "import torch\n",
        "import torch.nn as nn\n",
        "import torch.nn.functional as F\n",
        "import torch.optim as optim\n",
        "\n",
        "import torchvision\n",
        "from torchvision.datasets import VisionDataset\n",
        "from torchvision import transforms\n",
        "from torch.utils.data import Dataset, DataLoader, Subset\n",
        "\n",
        "import os \n",
        "from os import path\n",
        "\n",
        "import numpy as np\n",
        "import pandas as pd\n",
        "from scipy.io import loadmat\n",
        "\n",
        "from tqdm import tqdm\n",
        "from PIL import Image\n",
        "\n",
        "# read tiff\n",
        "import zipfile\n",
        "from tifffile import imread\n",
        "from torchvision.transforms import ToTensor\n",
        "import random\n",
        "import csv\n",
        "import matplotlib.pyplot as plt\n",
        "import cv2 as cv"
      ]
    },
    {
      "cell_type": "code",
      "source": [
        "from unet import UNet\n",
        "from keyholeDataset import Keyhole, KeyholeNoMask\n",
        "from loss import DiceBCEWithActivationLoss \n",
        "from augmentation import get_training_augmentation, preprocess\n",
        "from utils import plot_2_sidebyside, plot_3_sidebyside, save_model, save_loss_record\n",
        "from train import train\n",
        "from validation import validation\n",
        "import segmentation_models_pytorch as smp\n"
      ],
      "metadata": {
        "id": "cV2IGWBqOtsI"
      },
      "execution_count": null,
      "outputs": []
    },
    {
      "cell_type": "code",
      "source": [],
      "metadata": {
        "id": "FmLun9tNDQuZ"
      },
      "execution_count": null,
      "outputs": []
    },
    {
      "cell_type": "markdown",
      "source": [
        "## 2. Initiate a model"
      ],
      "metadata": {
        "id": "DyJE_hxsDUg2"
      }
    },
    {
      "cell_type": "code",
      "execution_count": null,
      "metadata": {
        "id": "pU6DxoE9wfCp"
      },
      "outputs": [],
      "source": [
        "#model = torch.hub.load('milesial/Pytorch-UNet', 'unet_carvana', pretrained=True, scale=0.5)\n",
        "\n",
        "model = UNet(n_channels=3, n_classes=1, bilinear=1)\n",
        "\n",
        "# # resnet50, mobilenet_v2,\n",
        "# model = smp.Unet(\n",
        "#     encoder_name=None,        # choose encoder, e.g. mobilenet_v2 or efficientnet-b7\n",
        "#     encoder_weights=\"imagenet\",     # use `imagenet` pre-trained weights for encoder initialization\n",
        "#     in_channels=3,                  # model input channels (1 for gray-scale images, 3 for RGB, etc.)\n",
        "#     classes=1,                      # model output channels (number of classes in your dataset)\n",
        "# )\n",
        "\n",
        "\n",
        "# model = smp.DeepLabV3(\n",
        "#     encoder_name=\"resnet50\",        # choose encoder, e.g. mobilenet_v2 or efficientnet-b7\n",
        "#     encoder_weights=\"imagenet\",     # use `imagenet` pre-trained weights for encoder initialization\n",
        "#     in_channels=3,                  # model input channels (1 for gray-scale images, 3 for RGB, etc.)\n",
        "#     classes=1,                      # model output channels (number of classes in your dataset)\n",
        "# )\n",
        "\n",
        "\n",
        "model_name = \"Unet_Finetuned\"\n",
        "\n",
        "torch.cuda.empty_cache()\n",
        "model.cuda()"
      ]
    },
    {
      "cell_type": "code",
      "source": [
        "#model.segmentation_head = nn.Sequential(*list(model.segmentation_head.children())[:-1])"
      ],
      "metadata": {
        "id": "MeLDW1162UH6"
      },
      "execution_count": null,
      "outputs": []
    },
    {
      "cell_type": "code",
      "execution_count": null,
      "metadata": {
        "id": "efmaWFtZG3oU"
      },
      "outputs": [],
      "source": [
        "# #load model\n",
        "checkpoint = torch.load(\"/content/drive/MyDrive/DL_segmentation_models/Unet_Finetune_epoch_50\")\n",
        "model.load_state_dict(checkpoint['model_state_dict'])\n"
      ]
    },
    {
      "cell_type": "markdown",
      "source": [
        "## 3. load data + specify batch_size and epochs"
      ],
      "metadata": {
        "id": "XZupFMnMDY3g"
      }
    },
    {
      "cell_type": "code",
      "source": [],
      "metadata": {
        "id": "MZee4yRM_Pdh"
      },
      "execution_count": null,
      "outputs": []
    },
    {
      "cell_type": "code",
      "execution_count": null,
      "metadata": {
        "id": "8RTL_ifQPfi4"
      },
      "outputs": [],
      "source": [
        "!mkdir Keyhole\n",
        "\n",
        "from google.colab import drive\n",
        "drive.mount('/content/drive')\n",
        "\n",
        "with zipfile.ZipFile('/content/drive/MyDrive/DL_Absorption_data/training_dataset_202206.zip', 'r') as zip:\n",
        "  zip.extractall(path='/content/Keyhole')\n",
        "\n",
        "with zipfile.ZipFile('/content/drive/MyDrive/DL_Absorption_data/testing_dataset_202206.zip', 'r') as zip:\n",
        "  zip.extractall(path='/content/Keyhole')\n",
        "\n",
        "\n",
        "cuda = torch.cuda.is_available()\n",
        "device = torch.device(\"cuda\" if cuda else \"cpu\")\n",
        "num_workers = 4 if cuda else 0\n",
        "print(\"Cuda = \" + str(cuda)+\" with num_workers = \"+str(num_workers))\n"
      ]
    },
    {
      "cell_type": "code",
      "execution_count": null,
      "metadata": {
        "id": "XyMdtFLAUNx1"
      },
      "outputs": [],
      "source": [
        "# need to write config file to make this part elegent\n",
        "batch_size = 1\n",
        "\n",
        "train_dataset = KeyholeNoMask('/content/Keyhole/training_datase_202206', \n",
        "                      transform=None, \n",
        "                      preprocess=None )\n",
        "\n",
        "test_dataset = KeyholeNoMask('/content/Keyhole/testing_dataset_202206', \n",
        "                      transform=None, \n",
        "                      preprocess=None )\n",
        "\n",
        "\n",
        "print(f\"Train size: {len(train_dataset)}\")\n",
        "\n",
        "print(f\"Test size: {len(test_dataset)}\")\n",
        "\n",
        "\n",
        "\n",
        "train_loader = DataLoader(train_dataset, \n",
        "                              batch_size=batch_size, \n",
        "                              shuffle=False, \n",
        "                              num_workers=num_workers)\n",
        "test_loader = DataLoader(test_dataset, \n",
        "                              batch_size=batch_size, \n",
        "                              shuffle=False, \n",
        "                              num_workers=num_workers)"
      ]
    },
    {
      "cell_type": "code",
      "source": [],
      "metadata": {
        "id": "pFO2Zs1ZoRsS"
      },
      "execution_count": null,
      "outputs": []
    },
    {
      "cell_type": "code",
      "source": [],
      "metadata": {
        "id": "6XplQz_2MRjh"
      },
      "execution_count": null,
      "outputs": []
    },
    {
      "cell_type": "markdown",
      "source": [
        "## 4. Inference"
      ],
      "metadata": {
        "id": "W1tkOULdMRzK"
      }
    },
    {
      "cell_type": "code",
      "execution_count": null,
      "metadata": {
        "id": "cQA5wFlLf0nG"
      },
      "outputs": [],
      "source": [
        "pred_train_masks = []\n",
        "for i, batch in enumerate(train_loader):\n",
        "      print(\"i = \", i)\n",
        "      print(batch.shape)\n",
        "      x = batch.float().to(device)  #.float().to(device) \n",
        "      print(x.shape)\n",
        "      yp = model(x)\n",
        "      #print(\"x shape\", x.shape) #torch.Size([1, 3, 572, 572])\n",
        "      #print(\"y shape\", y.shape) #torch.Size([1, 1, 572, 572])\n",
        "\n",
        "\n",
        "      for i in range(len(x)):\n",
        "        x_ = x[i].unsqueeze(0)\n",
        "        yp_ = (yp[i].detach().cpu().numpy()[0]>=0).astype(int)\n",
        "        pred_train_masks.append(yp_)\n",
        "        plot_2_sidebyside(x_.detach().cpu().numpy()[0][0], \n",
        "                      yp_.astype(int))\n"
      ]
    },
    {
      "cell_type": "code",
      "source": [
        "pred_test_masks = []\n",
        "for i, batch in enumerate(test_loader):\n",
        "      print(\"i = \", i)\n",
        "      x = batch.float().to(device)\n",
        "      yp = model(x)\n",
        "\n",
        "      for i in range(len(x)):\n",
        "        x_ = x[i].unsqueeze(0)\n",
        "        yp_ = (yp[i].detach().cpu().numpy()[0]>=0).astype(int)\n",
        "        # plot_2_sidebyside(x_.detach().cpu().numpy()[0][0], \n",
        "        #               yp_.astype(int))\n",
        "        pred_test_masks.append(yp_)"
      ],
      "metadata": {
        "id": "3N213DI-B0xQ"
      },
      "execution_count": null,
      "outputs": []
    },
    {
      "cell_type": "code",
      "source": [
        "path = \"/content/drive/MyDrive/DL_Absorption_data/train_masks/\"\n",
        "masks = pred_test_masks\n",
        "for i in range(1, len(masks) + 1):\n",
        "  mask = masks[i-1]\n",
        "  # name=ing\n",
        "  post = \"\"\n",
        "  if i < 10:\n",
        "    post = \"00\" + str(i)\n",
        "  elif i < 100:\n",
        "    post = \"0\" + str(i)\n",
        "  else:\n",
        "    post = str(i)\n",
        "  image_name = \"frame_\" + post + \".tif\"\n",
        "  # save\n",
        "  cv.imwrite(path + image_name, mask)"
      ],
      "metadata": {
        "id": "RxXH-fRgMxOp"
      },
      "execution_count": null,
      "outputs": []
    },
    {
      "cell_type": "code",
      "source": [
        "len(masks)"
      ],
      "metadata": {
        "id": "Eo78XzFFNozZ"
      },
      "execution_count": null,
      "outputs": []
    },
    {
      "cell_type": "code",
      "source": [],
      "metadata": {
        "id": "Otc4uHv3ob_I"
      },
      "execution_count": null,
      "outputs": []
    }
  ],
  "metadata": {
    "accelerator": "GPU",
    "colab": {
      "machine_shape": "hm",
      "provenance": [],
      "private_outputs": true,
      "collapsed_sections": [
        "o86gn1nG6DQ3"
      ]
    },
    "gpuClass": "premium",
    "kernelspec": {
      "display_name": "Python 3 (ipykernel)",
      "language": "python",
      "name": "python3"
    },
    "language_info": {
      "codemirror_mode": {
        "name": "ipython",
        "version": 3
      },
      "file_extension": ".py",
      "mimetype": "text/x-python",
      "name": "python",
      "nbconvert_exporter": "python",
      "pygments_lexer": "ipython3",
      "version": "3.8.8"
    }
  },
  "nbformat": 4,
  "nbformat_minor": 0
}