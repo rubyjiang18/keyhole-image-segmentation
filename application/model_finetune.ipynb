{
  "cells": [
    {
      "cell_type": "markdown",
      "metadata": {
        "id": "o86gn1nG6DQ3"
      },
      "source": [
        "\n",
        "\n",
        "### Image segementaion model train 2022 Nov\n",
        "\n",
        "\n"
      ]
    },
    {
      "cell_type": "markdown",
      "source": [
        "## 1. Import packages"
      ],
      "metadata": {
        "id": "8Yj608dbS6E3"
      }
    },
    {
      "cell_type": "code",
      "execution_count": null,
      "metadata": {
        "id": "6WblwuyYcJzm"
      },
      "outputs": [],
      "source": [
        "!pip install torchvision --upgrade\n",
        "!pip install grad-cam\n",
        "!pip install timm\n",
        "!pip install imagecodecs\n",
        "!pip install pytorchtools\n",
        "!pip install git+https://github.com/qubvel/segmentation_models.pytorch"
      ]
    },
    {
      "cell_type": "code",
      "execution_count": null,
      "metadata": {
        "id": "lME-yOdUPlEO"
      },
      "outputs": [],
      "source": [
        "import torch\n",
        "import torch.nn as nn\n",
        "import torch.nn.functional as F\n",
        "import torch.optim as optim\n",
        "\n",
        "import torchvision\n",
        "from torchvision.datasets import VisionDataset\n",
        "from torchvision import transforms\n",
        "from torch.utils.data import Dataset, DataLoader, Subset\n",
        "\n",
        "import os \n",
        "from os import path\n",
        "\n",
        "import numpy as np\n",
        "import pandas as pd\n",
        "from scipy.io import loadmat\n",
        "\n",
        "from tqdm import tqdm\n",
        "from PIL import Image\n",
        "\n",
        "# read tiff\n",
        "import zipfile\n",
        "from tifffile import imread\n",
        "from torchvision.transforms import ToTensor\n",
        "import random\n",
        "import csv\n",
        "import matplotlib.pyplot as plt\n",
        "import cv2 as cv"
      ]
    },
    {
      "cell_type": "code",
      "source": [
        "from unet import UNet\n",
        "from keyholeDataset import Keyhole, KeyholeNoMask\n",
        "from loss import DiceBCEWithActivationLoss \n",
        "from augmentation import get_training_augmentation, preprocess\n",
        "from utils import plot_2_sidebyside, plot_3_sidebyside, save_model, save_loss_record\n",
        "from train import train\n",
        "from validation import validation\n",
        "import segmentation_models_pytorch as smp\n"
      ],
      "metadata": {
        "id": "cV2IGWBqOtsI"
      },
      "execution_count": null,
      "outputs": []
    },
    {
      "cell_type": "code",
      "source": [],
      "metadata": {
        "id": "FmLun9tNDQuZ"
      },
      "execution_count": null,
      "outputs": []
    },
    {
      "cell_type": "markdown",
      "source": [
        "## 2. Initiate a model"
      ],
      "metadata": {
        "id": "DyJE_hxsDUg2"
      }
    },
    {
      "cell_type": "code",
      "execution_count": null,
      "metadata": {
        "id": "pU6DxoE9wfCp"
      },
      "outputs": [],
      "source": [
        "#model = torch.hub.load('milesial/Pytorch-UNet', 'unet_carvana', pretrained=True, scale=0.5)\n",
        "\n",
        "model = UNet(n_channels=3, n_classes=1, bilinear=1)\n",
        "\n",
        "# # resnet50, mobilenet_v2,\n",
        "# model = smp.Unet(\n",
        "#     encoder_name=None,        # choose encoder, e.g. mobilenet_v2 or efficientnet-b7\n",
        "#     encoder_weights=\"imagenet\",     # use `imagenet` pre-trained weights for encoder initialization\n",
        "#     in_channels=3,                  # model input channels (1 for gray-scale images, 3 for RGB, etc.)\n",
        "#     classes=1,                      # model output channels (number of classes in your dataset)\n",
        "# )\n",
        "\n",
        "\n",
        "# model = smp.DeepLabV3(\n",
        "#     encoder_name=\"resnet50\",        # choose encoder, e.g. mobilenet_v2 or efficientnet-b7\n",
        "#     encoder_weights=\"imagenet\",     # use `imagenet` pre-trained weights for encoder initialization\n",
        "#     in_channels=3,                  # model input channels (1 for gray-scale images, 3 for RGB, etc.)\n",
        "#     classes=1,                      # model output channels (number of classes in your dataset)\n",
        "# )\n",
        "\n",
        "\n",
        "model_name = \"Unet_Finetune\"\n",
        "\n",
        "torch.cuda.empty_cache()\n",
        "model.cuda()"
      ]
    },
    {
      "cell_type": "code",
      "source": [
        "#model.segmentation_head = nn.Sequential(*list(model.segmentation_head.children())[:-1])"
      ],
      "metadata": {
        "id": "MeLDW1162UH6"
      },
      "execution_count": null,
      "outputs": []
    },
    {
      "cell_type": "code",
      "execution_count": null,
      "metadata": {
        "id": "efmaWFtZG3oU"
      },
      "outputs": [],
      "source": [
        "# #load model\n",
        "checkpoint = torch.load(\"/content/drive/MyDrive/DL_segmentation_models/Unet_Plain_epoch_76\")\n",
        "model.load_state_dict(checkpoint['model_state_dict'])\n",
        "# for key, value in checkpoint.items():\n",
        "#     print(key)"
      ]
    },
    {
      "cell_type": "markdown",
      "source": [
        "## 3. load fintune data + specify batch_size and epochs"
      ],
      "metadata": {
        "id": "XZupFMnMDY3g"
      }
    },
    {
      "cell_type": "code",
      "source": [],
      "metadata": {
        "id": "MZee4yRM_Pdh"
      },
      "execution_count": null,
      "outputs": []
    },
    {
      "cell_type": "code",
      "execution_count": null,
      "metadata": {
        "id": "8RTL_ifQPfi4"
      },
      "outputs": [],
      "source": [
        "!mkdir Keyhole\n",
        "\n",
        "from google.colab import drive\n",
        "drive.mount('/content/drive')\n",
        "\n",
        "with zipfile.ZipFile('/content/drive/MyDrive/DL_segmentation_data/finetune_data.zip', 'r') as zip:\n",
        "  zip.extractall(path='/content/Keyhole')\n",
        "\n",
        "with zipfile.ZipFile('/content/drive/MyDrive/DL_segmentation_data/finetune_data.zip', 'r') as zip:\n",
        "  zip.extractall(path='/content/Keyhole')\n",
        "\n",
        "\n",
        "cuda = torch.cuda.is_available()\n",
        "device = torch.device(\"cuda\" if cuda else \"cpu\")\n",
        "num_workers = 4 if cuda else 0\n",
        "print(\"Cuda = \" + str(cuda)+\" with num_workers = \"+str(num_workers))\n"
      ]
    },
    {
      "cell_type": "code",
      "execution_count": null,
      "metadata": {
        "id": "XyMdtFLAUNx1"
      },
      "outputs": [],
      "source": [
        "# need to write config file to make this part elegent\n",
        "batch_size = 1\n",
        "epochs = 300\n",
        "\n",
        "train_dataset = Keyhole('/content/Keyhole/finetune_data', \n",
        "                        transform=get_training_augmentation(),\n",
        "                        preprocess=None,\n",
        "                        mode=\"train\", \n",
        "                        csv_name=\"/image_and_split.csv\")\n",
        "val_dataset = Keyhole('/content/Keyhole/finetune_data', \n",
        "                      transform=None, \n",
        "                      preprocess=None, \n",
        "                      mode=\"val\", \n",
        "                      csv_name=\"/image_and_split.csv\")\n",
        "\n",
        "\n",
        "print(f\"Train size: {len(train_dataset)}\")\n",
        "print(f\"Valid size: {len(val_dataset)}\")\n",
        "\n",
        "\n",
        "train_loader = DataLoader(train_dataset, batch_size=batch_size, shuffle=True, num_workers=num_workers)\n",
        "val_loader = DataLoader(val_dataset, batch_size=batch_size, shuffle=False, num_workers=1)\n"
      ]
    },
    {
      "cell_type": "code",
      "source": [
        "SMOOTH = 1e-6\n",
        "def iou_numpy(outputs: np.array, labels: np.array):\n",
        "    outputs = outputs #.squeeze(1)\n",
        "    \n",
        "    intersection = (outputs & labels).sum((0, 1))\n",
        "    union = (outputs | labels).sum((0, 1))\n",
        "    \n",
        "    iou = (intersection + SMOOTH) / (union + SMOOTH)\n",
        "    \n",
        "    #thresholded = np.ceil(np.clip(20 * (iou - 0.5), 0, 10)) / 10\n",
        "    \n",
        "    return iou  # Or thresholded.mean()\n",
        "    "
      ],
      "metadata": {
        "id": "3z-5bambu_rn"
      },
      "execution_count": null,
      "outputs": []
    },
    {
      "cell_type": "code",
      "source": [],
      "metadata": {
        "id": "pFO2Zs1ZoRsS"
      },
      "execution_count": null,
      "outputs": []
    },
    {
      "cell_type": "code",
      "execution_count": null,
      "metadata": {
        "id": "cQA5wFlLf0nG"
      },
      "outputs": [],
      "source": [
        "pred_masks = []\n",
        "iou_record = []\n",
        "for i, batch in enumerate(val_loader):\n",
        "      print(\"i = \", i)\n",
        "      x = batch['image'].float().to(device)  #.float().to(device) \n",
        "      y = batch['mask'].float().to(device) \n",
        "      assert(len(x) == len(y))\n",
        "      print(x.shape)\n",
        "      yp = model(x)\n",
        "      #print(\"x shape\", x.shape) #torch.Size([1, 3, 572, 572])\n",
        "      #print(\"y shape\", y.shape) #torch.Size([1, 1, 572, 572])\n",
        "\n",
        "\n",
        "      for i in range(len(x)):\n",
        "        x_ = x[i].unsqueeze(0)\n",
        "        y_ = y[i].unsqueeze(0)\n",
        "        yp_ = yp[i]\n",
        "\n",
        "        plot_2_sidebyside( \n",
        "                      y_.detach().cpu().numpy()[0][0].astype(int),\n",
        "                      (yp_.detach().cpu().numpy()[0]>0).astype(int))\n",
        "        iou_score = iou_numpy((yp_.detach().cpu().numpy()[0]>0).astype(int), y_.detach().cpu().numpy()[0][0].astype(int))\n",
        "        print(\"iou: \", iou_score)\n",
        "        iou_record.append(iou_score)\n",
        "\n"
      ]
    },
    {
      "cell_type": "code",
      "source": [
        "np.mean(iou_record)"
      ],
      "metadata": {
        "id": "k6Qqt1BmpdFS"
      },
      "execution_count": null,
      "outputs": []
    },
    {
      "cell_type": "code",
      "source": [
        "np.mean(iou_record)"
      ],
      "metadata": {
        "id": "-77UvTWjuPfn"
      },
      "execution_count": null,
      "outputs": []
    },
    {
      "cell_type": "markdown",
      "metadata": {
        "id": "t-YnS4xUz8Uv"
      },
      "source": [
        "## 4. Model training"
      ]
    },
    {
      "cell_type": "code",
      "source": [
        "\n",
        "\n"
      ],
      "metadata": {
        "id": "pd5-onvjvk0X"
      },
      "execution_count": null,
      "outputs": []
    },
    {
      "cell_type": "code",
      "execution_count": null,
      "metadata": {
        "id": "gm9TIn-TzqWg"
      },
      "outputs": [],
      "source": [
        "# #del model\n",
        "# torch.cuda.empty_cache()\n",
        "# model.cuda()"
      ]
    },
    {
      "cell_type": "code",
      "execution_count": null,
      "metadata": {
        "id": "YkEnXPr6xB8Y"
      },
      "outputs": [],
      "source": [
        "from torchsummary import summary\n",
        "summary(model, (3, 576, 576))"
      ]
    },
    {
      "cell_type": "code",
      "source": [],
      "metadata": {
        "id": "3N213DI-B0xQ"
      },
      "execution_count": null,
      "outputs": []
    },
    {
      "cell_type": "code",
      "execution_count": null,
      "metadata": {
        "id": "QXz1ANLOMIhs"
      },
      "outputs": [],
      "source": [
        " # 4. Set up the optimizer, the loss, the learning rate scheduler and the loss scaling for AMP\n",
        " # https://github.com/milesial/Pytorch-UNet/blob/master/train.py\n",
        "optimizer =  optim.RMSprop(model.parameters(), lr=5e-7, weight_decay=1e-8, momentum=0.99) # 0.99\n",
        "scheduler = optim.lr_scheduler.ReduceLROnPlateau(optimizer, patience=15)  # goal: maximize Dice score\n",
        "grad_scaler = torch.cuda.amp.GradScaler(enabled=True)\n",
        "criterion = nn.BCEWithLogitsLoss() #DiceBCEWithActivationLoss() #"
      ]
    },
    {
      "cell_type": "code",
      "source": [
        "# No early stop\n",
        "epochs = 100\n",
        "amp = True\n",
        "train_loss_record= []\n",
        "val_loss_record= []\n",
        "lr_record = []\n",
        "# record the # of times lr changes\n",
        "prev_lr = 100; # 100 to simulate int.max_value\n",
        "lr_count = -1\n"
      ],
      "metadata": {
        "id": "DizdnLL_RMv2"
      },
      "execution_count": null,
      "outputs": []
    },
    {
      "cell_type": "code",
      "source": [],
      "metadata": {
        "id": "KpCvktdqm-9e"
      },
      "execution_count": null,
      "outputs": []
    },
    {
      "cell_type": "code",
      "source": [
        "for epoch in range(36, epochs):\n",
        "  # lr - early stop\n",
        "  curr_lr = optimizer.param_groups[0]['lr']\n",
        "  lr_record.append(curr_lr)\n",
        "  print('New peoch lr: ', curr_lr)\n",
        "  if curr_lr < prev_lr:\n",
        "    prev_lr = curr_lr\n",
        "    lr_count += 1\n",
        "  if (lr_count == 2):\n",
        "    print(\"Early Stop\")\n",
        "    save_model(model, epoch, model_name, optimizer, scheduler, grad_scaler, batch_size)\n",
        "    save_loss_record(train_loss_record, val_loss_record, lr_record, model_name+\".csv\")\n",
        "    break\n",
        "  # train\n",
        "  train_loss = train(model, device, train_loader, optimizer, criterion, scheduler, grad_scaler, epoch, epochs, amp=True)\n",
        "  train_loss_record.append(train_loss)\n",
        "  # validation\n",
        "  val_loss = validation(model, device, val_loader, optimizer, criterion, scheduler, epoch, epochs, amp=True)\n",
        "  val_loss_record.append(val_loss)\n",
        "  # save_model\n",
        "  if epoch in {50, 100, 150, 200}:\n",
        "    save_model(model, epoch, model_name, optimizer, scheduler, grad_scaler, batch_size)"
      ],
      "metadata": {
        "id": "LevPEXB4zqNQ"
      },
      "execution_count": null,
      "outputs": []
    },
    {
      "cell_type": "code",
      "source": [
        "save_model(model, epoch, model_name, optimizer, scheduler, grad_scaler, batch_size)"
      ],
      "metadata": {
        "id": "3Jtpa51SnHxL"
      },
      "execution_count": null,
      "outputs": []
    },
    {
      "cell_type": "code",
      "source": [],
      "metadata": {
        "id": "jUTqRNj5GTYp"
      },
      "execution_count": null,
      "outputs": []
    }
  ],
  "metadata": {
    "accelerator": "GPU",
    "colab": {
      "machine_shape": "hm",
      "provenance": [],
      "private_outputs": true,
      "collapsed_sections": [
        "o86gn1nG6DQ3"
      ]
    },
    "gpuClass": "premium",
    "kernelspec": {
      "display_name": "Python 3 (ipykernel)",
      "language": "python",
      "name": "python3"
    },
    "language_info": {
      "codemirror_mode": {
        "name": "ipython",
        "version": 3
      },
      "file_extension": ".py",
      "mimetype": "text/x-python",
      "name": "python",
      "nbconvert_exporter": "python",
      "pygments_lexer": "ipython3",
      "version": "3.8.8"
    }
  },
  "nbformat": 4,
  "nbformat_minor": 0
}