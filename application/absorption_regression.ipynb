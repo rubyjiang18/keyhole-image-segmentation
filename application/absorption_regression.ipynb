{
 "cells": [
  {
   "cell_type": "code",
   "execution_count": 7,
   "id": "00df5ced",
   "metadata": {},
   "outputs": [],
   "source": [
    "import pandas as pd\n",
    "import numpy as np\n",
    "import matplotlib.pyplot as plt\n",
    "import warnings\n",
    "warnings.simplefilter('ignore')\n",
    "\n",
    "import seaborn as sns\n",
    "\n",
    "# OLS\n",
    "import statsmodels.api as sm\n",
    "# Linear regression\n",
    "from sklearn.linear_model import LinearRegression\n",
    "# xgboost\n",
    "import xgboost as xgb\n",
    "\n",
    "from sklearn.model_selection import train_test_split # to split data into training and testing sets\n",
    "from sklearn.model_selection import GridSearchCV # for cross validation\n",
    "from sklearn.metrics import mean_absolute_error # for model evaluation\n",
    "from sklearn.metrics import mean_squared_error\n",
    "\n",
    "from sklearn.metrics import r2_score"
   ]
  },
  {
   "cell_type": "code",
   "execution_count": 64,
   "id": "3ba7cd5c",
   "metadata": {},
   "outputs": [
    {
     "data": {
      "text/html": [
       "<div>\n",
       "<style scoped>\n",
       "    .dataframe tbody tr th:only-of-type {\n",
       "        vertical-align: middle;\n",
       "    }\n",
       "\n",
       "    .dataframe tbody tr th {\n",
       "        vertical-align: top;\n",
       "    }\n",
       "\n",
       "    .dataframe thead th {\n",
       "        text-align: right;\n",
       "    }\n",
       "</style>\n",
       "<table border=\"1\" class=\"dataframe\">\n",
       "  <thead>\n",
       "    <tr style=\"text-align: right;\">\n",
       "      <th></th>\n",
       "      <th>depth</th>\n",
       "      <th>width_top</th>\n",
       "      <th>width_quarter</th>\n",
       "      <th>width_half</th>\n",
       "      <th>width_3quarter</th>\n",
       "      <th>avg_width</th>\n",
       "      <th>num_white_pixel</th>\n",
       "      <th>perimeter</th>\n",
       "      <th>relative_absorption</th>\n",
       "    </tr>\n",
       "  </thead>\n",
       "  <tbody>\n",
       "    <tr>\n",
       "      <th>0</th>\n",
       "      <td>0</td>\n",
       "      <td>0</td>\n",
       "      <td>0</td>\n",
       "      <td>0</td>\n",
       "      <td>0</td>\n",
       "      <td>0.0</td>\n",
       "      <td>0</td>\n",
       "      <td>0.0</td>\n",
       "      <td>0.402850</td>\n",
       "    </tr>\n",
       "    <tr>\n",
       "      <th>1</th>\n",
       "      <td>0</td>\n",
       "      <td>0</td>\n",
       "      <td>0</td>\n",
       "      <td>0</td>\n",
       "      <td>0</td>\n",
       "      <td>0.0</td>\n",
       "      <td>0</td>\n",
       "      <td>0.0</td>\n",
       "      <td>0.446961</td>\n",
       "    </tr>\n",
       "    <tr>\n",
       "      <th>2</th>\n",
       "      <td>0</td>\n",
       "      <td>0</td>\n",
       "      <td>0</td>\n",
       "      <td>0</td>\n",
       "      <td>0</td>\n",
       "      <td>0.0</td>\n",
       "      <td>0</td>\n",
       "      <td>0.0</td>\n",
       "      <td>-0.968159</td>\n",
       "    </tr>\n",
       "    <tr>\n",
       "      <th>3</th>\n",
       "      <td>0</td>\n",
       "      <td>0</td>\n",
       "      <td>0</td>\n",
       "      <td>0</td>\n",
       "      <td>0</td>\n",
       "      <td>0.0</td>\n",
       "      <td>0</td>\n",
       "      <td>0.0</td>\n",
       "      <td>-0.282654</td>\n",
       "    </tr>\n",
       "    <tr>\n",
       "      <th>4</th>\n",
       "      <td>0</td>\n",
       "      <td>0</td>\n",
       "      <td>0</td>\n",
       "      <td>0</td>\n",
       "      <td>0</td>\n",
       "      <td>0.0</td>\n",
       "      <td>0</td>\n",
       "      <td>0.0</td>\n",
       "      <td>0.371854</td>\n",
       "    </tr>\n",
       "  </tbody>\n",
       "</table>\n",
       "</div>"
      ],
      "text/plain": [
       "   depth  width_top  width_quarter  width_half  width_3quarter  avg_width  \\\n",
       "0      0          0              0           0               0        0.0   \n",
       "1      0          0              0           0               0        0.0   \n",
       "2      0          0              0           0               0        0.0   \n",
       "3      0          0              0           0               0        0.0   \n",
       "4      0          0              0           0               0        0.0   \n",
       "\n",
       "   num_white_pixel  perimeter  relative_absorption  \n",
       "0                0        0.0             0.402850  \n",
       "1                0        0.0             0.446961  \n",
       "2                0        0.0            -0.968159  \n",
       "3                0        0.0            -0.282654  \n",
       "4                0        0.0             0.371854  "
      ]
     },
     "execution_count": 64,
     "metadata": {},
     "output_type": "execute_result"
    }
   ],
   "source": [
    "path = \"/Users/rubyjiang/Desktop/Keyhole-image-segmentation/application/train_features.csv\"\n",
    "df = pd.read_csv(path)\n",
    "df.head()"
   ]
  },
  {
   "cell_type": "code",
   "execution_count": 65,
   "id": "6205f595",
   "metadata": {},
   "outputs": [],
   "source": [
    "def get_aspect_ratio(row):\n",
    "    if row['depth']==0 or row['width_half']==0:\n",
    "        return 0\n",
    "    else:\n",
    "        return row['depth'] / row['width_half']\n",
    "df['aspect_ratio'] = df.apply(get_aspect_ratio, axis=1)"
   ]
  },
  {
   "cell_type": "code",
   "execution_count": 66,
   "id": "d0f1b514",
   "metadata": {},
   "outputs": [
    {
     "data": {
      "text/html": [
       "<div>\n",
       "<style scoped>\n",
       "    .dataframe tbody tr th:only-of-type {\n",
       "        vertical-align: middle;\n",
       "    }\n",
       "\n",
       "    .dataframe tbody tr th {\n",
       "        vertical-align: top;\n",
       "    }\n",
       "\n",
       "    .dataframe thead th {\n",
       "        text-align: right;\n",
       "    }\n",
       "</style>\n",
       "<table border=\"1\" class=\"dataframe\">\n",
       "  <thead>\n",
       "    <tr style=\"text-align: right;\">\n",
       "      <th></th>\n",
       "      <th>depth</th>\n",
       "      <th>width_top</th>\n",
       "      <th>width_quarter</th>\n",
       "      <th>width_half</th>\n",
       "      <th>width_3quarter</th>\n",
       "      <th>avg_width</th>\n",
       "      <th>num_white_pixel</th>\n",
       "      <th>perimeter</th>\n",
       "      <th>relative_absorption</th>\n",
       "      <th>aspect_ratio</th>\n",
       "    </tr>\n",
       "  </thead>\n",
       "  <tbody>\n",
       "    <tr>\n",
       "      <th>0</th>\n",
       "      <td>0</td>\n",
       "      <td>0</td>\n",
       "      <td>0</td>\n",
       "      <td>0</td>\n",
       "      <td>0</td>\n",
       "      <td>0.0</td>\n",
       "      <td>0</td>\n",
       "      <td>0.0</td>\n",
       "      <td>0.402850</td>\n",
       "      <td>0.0</td>\n",
       "    </tr>\n",
       "    <tr>\n",
       "      <th>1</th>\n",
       "      <td>0</td>\n",
       "      <td>0</td>\n",
       "      <td>0</td>\n",
       "      <td>0</td>\n",
       "      <td>0</td>\n",
       "      <td>0.0</td>\n",
       "      <td>0</td>\n",
       "      <td>0.0</td>\n",
       "      <td>0.446961</td>\n",
       "      <td>0.0</td>\n",
       "    </tr>\n",
       "    <tr>\n",
       "      <th>2</th>\n",
       "      <td>0</td>\n",
       "      <td>0</td>\n",
       "      <td>0</td>\n",
       "      <td>0</td>\n",
       "      <td>0</td>\n",
       "      <td>0.0</td>\n",
       "      <td>0</td>\n",
       "      <td>0.0</td>\n",
       "      <td>-0.968159</td>\n",
       "      <td>0.0</td>\n",
       "    </tr>\n",
       "    <tr>\n",
       "      <th>3</th>\n",
       "      <td>0</td>\n",
       "      <td>0</td>\n",
       "      <td>0</td>\n",
       "      <td>0</td>\n",
       "      <td>0</td>\n",
       "      <td>0.0</td>\n",
       "      <td>0</td>\n",
       "      <td>0.0</td>\n",
       "      <td>-0.282654</td>\n",
       "      <td>0.0</td>\n",
       "    </tr>\n",
       "    <tr>\n",
       "      <th>4</th>\n",
       "      <td>0</td>\n",
       "      <td>0</td>\n",
       "      <td>0</td>\n",
       "      <td>0</td>\n",
       "      <td>0</td>\n",
       "      <td>0.0</td>\n",
       "      <td>0</td>\n",
       "      <td>0.0</td>\n",
       "      <td>0.371854</td>\n",
       "      <td>0.0</td>\n",
       "    </tr>\n",
       "  </tbody>\n",
       "</table>\n",
       "</div>"
      ],
      "text/plain": [
       "   depth  width_top  width_quarter  width_half  width_3quarter  avg_width  \\\n",
       "0      0          0              0           0               0        0.0   \n",
       "1      0          0              0           0               0        0.0   \n",
       "2      0          0              0           0               0        0.0   \n",
       "3      0          0              0           0               0        0.0   \n",
       "4      0          0              0           0               0        0.0   \n",
       "\n",
       "   num_white_pixel  perimeter  relative_absorption  aspect_ratio  \n",
       "0                0        0.0             0.402850           0.0  \n",
       "1                0        0.0             0.446961           0.0  \n",
       "2                0        0.0            -0.968159           0.0  \n",
       "3                0        0.0            -0.282654           0.0  \n",
       "4                0        0.0             0.371854           0.0  "
      ]
     },
     "execution_count": 66,
     "metadata": {},
     "output_type": "execute_result"
    }
   ],
   "source": [
    "df.head()"
   ]
  },
  {
   "cell_type": "code",
   "execution_count": 67,
   "id": "eecced61",
   "metadata": {},
   "outputs": [],
   "source": [
    "# Linear regression\n",
    "y = df['relative_absorption'].copy()\n",
    "X = df.drop(['relative_absorption'], axis=1).copy()"
   ]
  },
  {
   "cell_type": "code",
   "execution_count": 37,
   "id": "16f42d8a",
   "metadata": {},
   "outputs": [
    {
     "data": {
      "text/plain": [
       "depth                  False\n",
       "width_top              False\n",
       "width_quarter          False\n",
       "width_half             False\n",
       "width_3quarter         False\n",
       "avg_width              False\n",
       "num_white_pixel        False\n",
       "perimeter              False\n",
       "relative_absorption    False\n",
       "aspect_ratio           False\n",
       "dtype: bool"
      ]
     },
     "execution_count": 37,
     "metadata": {},
     "output_type": "execute_result"
    }
   ],
   "source": [
    "df.isnull().any()"
   ]
  },
  {
   "cell_type": "code",
   "execution_count": 38,
   "id": "361cb569",
   "metadata": {},
   "outputs": [
    {
     "data": {
      "image/png": "[encoded data removed]",
      "text/plain": [
       "<Figure size 432x288 with 1 Axes>"
      ]
     },
     "metadata": {
      "needs_background": "light"
     },
     "output_type": "display_data"
    }
   ],
   "source": [
    "X_train, X_test, y_train, y_test = train_test_split(X, y, train_size=0.75, random_state = 42);\n",
    "sns.distplot(y_train);\n",
    "sns.distplot(y_test);"
   ]
  },
  {
   "cell_type": "markdown",
   "id": "704640af",
   "metadata": {},
   "source": [
    "## Linear regression"
   ]
  },
  {
   "cell_type": "code",
   "execution_count": 39,
   "id": "e698c807",
   "metadata": {},
   "outputs": [
    {
     "data": {
      "text/plain": [
       "LinearRegression()"
      ]
     },
     "execution_count": 39,
     "metadata": {},
     "output_type": "execute_result"
    }
   ],
   "source": [
    "lm = LinearRegression()\n",
    "lm.fit(X_train, y_train)"
   ]
  },
  {
   "cell_type": "code",
   "execution_count": 40,
   "id": "f58539c5",
   "metadata": {},
   "outputs": [
    {
     "data": {
      "text/plain": [
       "Index(['depth', 'width_top', 'width_quarter', 'width_half', 'width_3quarter',\n",
       "       'avg_width', 'num_white_pixel', 'perimeter', 'aspect_ratio'],\n",
       "      dtype='object')"
      ]
     },
     "execution_count": 40,
     "metadata": {},
     "output_type": "execute_result"
    }
   ],
   "source": [
    "X_train.columns"
   ]
  },
  {
   "cell_type": "code",
   "execution_count": 41,
   "id": "181daca0",
   "metadata": {},
   "outputs": [
    {
     "data": {
      "text/plain": [
       "array([ 2.01076288, -0.78569786, -1.55831185, -2.12680388, -2.0908498 ,\n",
       "        8.89541289, -0.01859565, -0.56160523,  0.96290759])"
      ]
     },
     "execution_count": 41,
     "metadata": {},
     "output_type": "execute_result"
    }
   ],
   "source": [
    "lm.coef_"
   ]
  },
  {
   "cell_type": "code",
   "execution_count": 43,
   "id": "c9aab25c",
   "metadata": {},
   "outputs": [
    {
     "data": {
      "text/plain": [
       "5.142401036611048"
      ]
     },
     "execution_count": 43,
     "metadata": {},
     "output_type": "execute_result"
    }
   ],
   "source": [
    "lm.intercept_"
   ]
  },
  {
   "cell_type": "code",
   "execution_count": 44,
   "id": "b7806fd7",
   "metadata": {},
   "outputs": [
    {
     "name": "stdout",
     "output_type": "stream",
     "text": [
      "R² Training Score: 0.87915 \n"
     ]
    }
   ],
   "source": [
    "y_train_pred = lm.predict(X_train)\n",
    "score = r2_score(y_train, y_train_pred)\n",
    "print(\"R² Training Score: %.5f \"% score)"
   ]
  },
  {
   "cell_type": "code",
   "execution_count": 45,
   "id": "ed86a513",
   "metadata": {},
   "outputs": [
    {
     "name": "stdout",
     "output_type": "stream",
     "text": [
      "R² Testing Score: 0.70519 \n"
     ]
    }
   ],
   "source": [
    "y_test_pred = lm.predict(X_test)\n",
    "score = r2_score(y_test, y_test_pred)\n",
    "print(\"R² Testing Score: %.5f \"% score)"
   ]
  },
  {
   "cell_type": "markdown",
   "id": "75913bbb",
   "metadata": {},
   "source": [
    "## XGBoost"
   ]
  },
  {
   "cell_type": "code",
   "execution_count": 46,
   "id": "e4de8832",
   "metadata": {},
   "outputs": [
    {
     "name": "stdout",
     "output_type": "stream",
     "text": [
      "[0]\tvalidation_0-mae:18.95680\n",
      "[1]\tvalidation_0-mae:15.15724\n",
      "[2]\tvalidation_0-mae:12.50604\n",
      "[3]\tvalidation_0-mae:10.70228\n",
      "[4]\tvalidation_0-mae:9.44304\n",
      "[5]\tvalidation_0-mae:8.62424\n",
      "[6]\tvalidation_0-mae:8.03372\n",
      "[7]\tvalidation_0-mae:7.68688\n",
      "[8]\tvalidation_0-mae:7.45814\n",
      "[9]\tvalidation_0-mae:7.32069\n",
      "[10]\tvalidation_0-mae:7.23757\n",
      "[11]\tvalidation_0-mae:7.19546\n",
      "[12]\tvalidation_0-mae:7.16308\n",
      "[13]\tvalidation_0-mae:7.14432\n",
      "[14]\tvalidation_0-mae:7.14541\n",
      "[15]\tvalidation_0-mae:7.16226\n",
      "[16]\tvalidation_0-mae:7.17426\n",
      "[17]\tvalidation_0-mae:7.17332\n",
      "[18]\tvalidation_0-mae:7.16222\n",
      "[19]\tvalidation_0-mae:7.16317\n",
      "[20]\tvalidation_0-mae:7.16903\n",
      "[21]\tvalidation_0-mae:7.17409\n",
      "[22]\tvalidation_0-mae:7.17051\n",
      "[23]\tvalidation_0-mae:7.17203\n",
      "[24]\tvalidation_0-mae:7.18036\n"
     ]
    },
    {
     "data": {
      "text/plain": [
       "XGBRegressor(base_score=0.5, booster='gbtree', colsample_bylevel=1,\n",
       "             colsample_bynode=1, colsample_bytree=1, enable_categorical=False,\n",
       "             gamma=0, gpu_id=-1, importance_type=None,\n",
       "             interaction_constraints='', learning_rate=0.300000012,\n",
       "             max_delta_step=0, max_depth=6, min_child_weight=1, missing=1,\n",
       "             monotone_constraints='()', n_estimators=100, n_jobs=8,\n",
       "             num_parallel_tree=1, predictor='auto', random_state=42,\n",
       "             reg_alpha=0, reg_lambda=1, scale_pos_weight=1, seed=42,\n",
       "             subsample=1, tree_method='exact', validate_parameters=1,\n",
       "             verbosity=0)"
      ]
     },
     "execution_count": 46,
     "metadata": {},
     "output_type": "execute_result"
    }
   ],
   "source": [
    "reg_xgb = xgb.XGBRegressor(verbosity=0, \n",
    "                           objective='reg:squarederror', \n",
    "                           missing=1, \n",
    "                           seed=42)\n",
    "reg_xgb.fit(X_train, \n",
    "            y_train, \n",
    "            eval_metric= 'mae', #'mae', # 'rmsle', 'rmse'\n",
    "            early_stopping_rounds=11,\n",
    "            eval_set=[(X_test, y_test)])"
   ]
  },
  {
   "cell_type": "code",
   "execution_count": 47,
   "id": "607aab4a",
   "metadata": {},
   "outputs": [
    {
     "name": "stdout",
     "output_type": "stream",
     "text": [
      "R² Training Score: 0.92582 \n"
     ]
    }
   ],
   "source": [
    "y_train_pred = reg_xgb.predict(X_train)\n",
    "score = r2_score(y_train, y_train_pred)\n",
    "print(\"R² Training Score: %.5f \"% score)"
   ]
  },
  {
   "cell_type": "code",
   "execution_count": 48,
   "id": "2f185769",
   "metadata": {},
   "outputs": [
    {
     "name": "stdout",
     "output_type": "stream",
     "text": [
      "R² Testing Score: 0.88218 \n"
     ]
    }
   ],
   "source": [
    "y_test_pred = reg_xgb.predict(X_test)\n",
    "score = r2_score(y_test, y_test_pred)\n",
    "print(\"R² Testing Score: %.5f \"% score)"
   ]
  },
  {
   "cell_type": "code",
   "execution_count": 49,
   "id": "58db2125",
   "metadata": {},
   "outputs": [
    {
     "data": {
      "image/png": "[encoded data removed]",
      "text/plain": [
       "<Figure size 432x288 with 1 Axes>"
      ]
     },
     "metadata": {
      "needs_background": "light"
     },
     "output_type": "display_data"
    }
   ],
   "source": [
    "model = reg_xgb\n",
    "xgb.plot_importance(model)\n",
    "plt.title(\"xgboost.plot_importance(model)\")\n",
    "plt.show()"
   ]
  },
  {
   "cell_type": "code",
   "execution_count": 62,
   "id": "15eaf75f",
   "metadata": {},
   "outputs": [],
   "source": [
    "X = df.drop(['relative_absorption'], axis=1)"
   ]
  },
  {
   "cell_type": "code",
   "execution_count": 68,
   "id": "77364207",
   "metadata": {},
   "outputs": [
    {
     "data": {
      "text/plain": [
       "[<matplotlib.lines.Line2D at 0x14475e1c0>]"
      ]
     },
     "execution_count": 68,
     "metadata": {},
     "output_type": "execute_result"
    },
    {
     "data": {
      "image/png": "[encoded data removed]",
      "text/plain": [
       "<Figure size 432x288 with 1 Axes>"
      ]
     },
     "metadata": {
      "needs_background": "light"
     },
     "output_type": "display_data"
    }
   ],
   "source": [
    "y = df['relative_absorption']\n",
    "x = np.arange(0,len(y), 1)\n",
    "yp = model.predict(X)\n",
    "plt.plot(x,y)\n",
    "plt.plot(x,yp)"
   ]
  },
  {
   "cell_type": "code",
   "execution_count": null,
   "id": "9f206ff6",
   "metadata": {},
   "outputs": [],
   "source": []
  }
 ],
 "metadata": {
  "kernelspec": {
   "display_name": "Python 3 (ipykernel)",
   "language": "python",
   "name": "python3"
  },
  "language_info": {
   "codemirror_mode": {
    "name": "ipython",
    "version": 3
   },
   "file_extension": ".py",
   "mimetype": "text/x-python",
   "name": "python",
   "nbconvert_exporter": "python",
   "pygments_lexer": "ipython3",
   "version": "3.9.12"
  }
 },
 "nbformat": 4,
 "nbformat_minor": 5
}
