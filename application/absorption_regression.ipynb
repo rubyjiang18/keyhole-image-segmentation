{
 "cells": [
  {
   "cell_type": "code",
   "execution_count": 1,
   "id": "00df5ced",
   "metadata": {},
   "outputs": [],
   "source": [
    "import pandas as pd\n",
    "import numpy as np\n",
    "import matplotlib.pyplot as plt\n",
    "import warnings\n",
    "warnings.simplefilter('ignore')\n",
    "\n",
    "import seaborn as sns\n",
    "\n",
    "# OLS\n",
    "import statsmodels.api as sm\n",
    "# Linear regression\n",
    "from sklearn.linear_model import LinearRegression\n",
    "# xgboost\n",
    "import xgboost as xgb\n",
    "\n",
    "from sklearn.model_selection import train_test_split # to split data into training and testing sets\n",
    "from sklearn.model_selection import GridSearchCV # for cross validation\n",
    "from sklearn.metrics import mean_absolute_error # for model evaluation\n",
    "from sklearn.metrics import mean_squared_error\n",
    "\n",
    "from sklearn.metrics import r2_score"
   ]
  },
  {
   "cell_type": "markdown",
   "id": "ea1bcc41",
   "metadata": {},
   "source": [
    "## 1. Train using train_features.csv"
   ]
  },
  {
   "cell_type": "code",
   "execution_count": 3,
   "id": "3ba7cd5c",
   "metadata": {},
   "outputs": [
    {
     "data": {
      "text/html": [
       "<div>\n",
       "<style scoped>\n",
       "    .dataframe tbody tr th:only-of-type {\n",
       "        vertical-align: middle;\n",
       "    }\n",
       "\n",
       "    .dataframe tbody tr th {\n",
       "        vertical-align: top;\n",
       "    }\n",
       "\n",
       "    .dataframe thead th {\n",
       "        text-align: right;\n",
       "    }\n",
       "</style>\n",
       "<table border=\"1\" class=\"dataframe\">\n",
       "  <thead>\n",
       "    <tr style=\"text-align: right;\">\n",
       "      <th></th>\n",
       "      <th>depth</th>\n",
       "      <th>width_top</th>\n",
       "      <th>width_quarter</th>\n",
       "      <th>width_half</th>\n",
       "      <th>width_3quarter</th>\n",
       "      <th>avg_width</th>\n",
       "      <th>num_white_pixel</th>\n",
       "      <th>perimeter</th>\n",
       "      <th>relative_absorption</th>\n",
       "    </tr>\n",
       "  </thead>\n",
       "  <tbody>\n",
       "    <tr>\n",
       "      <th>0</th>\n",
       "      <td>0</td>\n",
       "      <td>0</td>\n",
       "      <td>0</td>\n",
       "      <td>0</td>\n",
       "      <td>0</td>\n",
       "      <td>0.0</td>\n",
       "      <td>0</td>\n",
       "      <td>0.0</td>\n",
       "      <td>0.402850</td>\n",
       "    </tr>\n",
       "    <tr>\n",
       "      <th>1</th>\n",
       "      <td>0</td>\n",
       "      <td>0</td>\n",
       "      <td>0</td>\n",
       "      <td>0</td>\n",
       "      <td>0</td>\n",
       "      <td>0.0</td>\n",
       "      <td>0</td>\n",
       "      <td>0.0</td>\n",
       "      <td>0.446961</td>\n",
       "    </tr>\n",
       "    <tr>\n",
       "      <th>2</th>\n",
       "      <td>0</td>\n",
       "      <td>0</td>\n",
       "      <td>0</td>\n",
       "      <td>0</td>\n",
       "      <td>0</td>\n",
       "      <td>0.0</td>\n",
       "      <td>0</td>\n",
       "      <td>0.0</td>\n",
       "      <td>-0.968159</td>\n",
       "    </tr>\n",
       "    <tr>\n",
       "      <th>3</th>\n",
       "      <td>0</td>\n",
       "      <td>0</td>\n",
       "      <td>0</td>\n",
       "      <td>0</td>\n",
       "      <td>0</td>\n",
       "      <td>0.0</td>\n",
       "      <td>0</td>\n",
       "      <td>0.0</td>\n",
       "      <td>-0.282654</td>\n",
       "    </tr>\n",
       "    <tr>\n",
       "      <th>4</th>\n",
       "      <td>0</td>\n",
       "      <td>0</td>\n",
       "      <td>0</td>\n",
       "      <td>0</td>\n",
       "      <td>0</td>\n",
       "      <td>0.0</td>\n",
       "      <td>0</td>\n",
       "      <td>0.0</td>\n",
       "      <td>0.371854</td>\n",
       "    </tr>\n",
       "  </tbody>\n",
       "</table>\n",
       "</div>"
      ],
      "text/plain": [
       "   depth  width_top  width_quarter  width_half  width_3quarter  avg_width  \\\n",
       "0      0          0              0           0               0        0.0   \n",
       "1      0          0              0           0               0        0.0   \n",
       "2      0          0              0           0               0        0.0   \n",
       "3      0          0              0           0               0        0.0   \n",
       "4      0          0              0           0               0        0.0   \n",
       "\n",
       "   num_white_pixel  perimeter  relative_absorption  \n",
       "0                0        0.0             0.402850  \n",
       "1                0        0.0             0.446961  \n",
       "2                0        0.0            -0.968159  \n",
       "3                0        0.0            -0.282654  \n",
       "4                0        0.0             0.371854  "
      ]
     },
     "execution_count": 3,
     "metadata": {},
     "output_type": "execute_result"
    }
   ],
   "source": [
    "path = \"/Users/rubyjiang/Desktop/Keyhole-image-segmentation/application/train_features.csv\"\n",
    "df = pd.read_csv(path)\n",
    "df.head()"
   ]
  },
  {
   "cell_type": "code",
   "execution_count": 4,
   "id": "6205f595",
   "metadata": {},
   "outputs": [],
   "source": [
    "def get_aspect_ratio(row):\n",
    "    if row['depth']==0 or row['width_half']==0:\n",
    "        return 0\n",
    "    else:\n",
    "        return row['depth'] / row['width_half']\n",
    "df['aspect_ratio'] = df.apply(get_aspect_ratio, axis=1)"
   ]
  },
  {
   "cell_type": "code",
   "execution_count": 5,
   "id": "d0f1b514",
   "metadata": {},
   "outputs": [
    {
     "data": {
      "text/html": [
       "<div>\n",
       "<style scoped>\n",
       "    .dataframe tbody tr th:only-of-type {\n",
       "        vertical-align: middle;\n",
       "    }\n",
       "\n",
       "    .dataframe tbody tr th {\n",
       "        vertical-align: top;\n",
       "    }\n",
       "\n",
       "    .dataframe thead th {\n",
       "        text-align: right;\n",
       "    }\n",
       "</style>\n",
       "<table border=\"1\" class=\"dataframe\">\n",
       "  <thead>\n",
       "    <tr style=\"text-align: right;\">\n",
       "      <th></th>\n",
       "      <th>depth</th>\n",
       "      <th>width_top</th>\n",
       "      <th>width_quarter</th>\n",
       "      <th>width_half</th>\n",
       "      <th>width_3quarter</th>\n",
       "      <th>avg_width</th>\n",
       "      <th>num_white_pixel</th>\n",
       "      <th>perimeter</th>\n",
       "      <th>relative_absorption</th>\n",
       "      <th>aspect_ratio</th>\n",
       "    </tr>\n",
       "  </thead>\n",
       "  <tbody>\n",
       "    <tr>\n",
       "      <th>0</th>\n",
       "      <td>0</td>\n",
       "      <td>0</td>\n",
       "      <td>0</td>\n",
       "      <td>0</td>\n",
       "      <td>0</td>\n",
       "      <td>0.0</td>\n",
       "      <td>0</td>\n",
       "      <td>0.0</td>\n",
       "      <td>0.402850</td>\n",
       "      <td>0.0</td>\n",
       "    </tr>\n",
       "    <tr>\n",
       "      <th>1</th>\n",
       "      <td>0</td>\n",
       "      <td>0</td>\n",
       "      <td>0</td>\n",
       "      <td>0</td>\n",
       "      <td>0</td>\n",
       "      <td>0.0</td>\n",
       "      <td>0</td>\n",
       "      <td>0.0</td>\n",
       "      <td>0.446961</td>\n",
       "      <td>0.0</td>\n",
       "    </tr>\n",
       "    <tr>\n",
       "      <th>2</th>\n",
       "      <td>0</td>\n",
       "      <td>0</td>\n",
       "      <td>0</td>\n",
       "      <td>0</td>\n",
       "      <td>0</td>\n",
       "      <td>0.0</td>\n",
       "      <td>0</td>\n",
       "      <td>0.0</td>\n",
       "      <td>-0.968159</td>\n",
       "      <td>0.0</td>\n",
       "    </tr>\n",
       "    <tr>\n",
       "      <th>3</th>\n",
       "      <td>0</td>\n",
       "      <td>0</td>\n",
       "      <td>0</td>\n",
       "      <td>0</td>\n",
       "      <td>0</td>\n",
       "      <td>0.0</td>\n",
       "      <td>0</td>\n",
       "      <td>0.0</td>\n",
       "      <td>-0.282654</td>\n",
       "      <td>0.0</td>\n",
       "    </tr>\n",
       "    <tr>\n",
       "      <th>4</th>\n",
       "      <td>0</td>\n",
       "      <td>0</td>\n",
       "      <td>0</td>\n",
       "      <td>0</td>\n",
       "      <td>0</td>\n",
       "      <td>0.0</td>\n",
       "      <td>0</td>\n",
       "      <td>0.0</td>\n",
       "      <td>0.371854</td>\n",
       "      <td>0.0</td>\n",
       "    </tr>\n",
       "  </tbody>\n",
       "</table>\n",
       "</div>"
      ],
      "text/plain": [
       "   depth  width_top  width_quarter  width_half  width_3quarter  avg_width  \\\n",
       "0      0          0              0           0               0        0.0   \n",
       "1      0          0              0           0               0        0.0   \n",
       "2      0          0              0           0               0        0.0   \n",
       "3      0          0              0           0               0        0.0   \n",
       "4      0          0              0           0               0        0.0   \n",
       "\n",
       "   num_white_pixel  perimeter  relative_absorption  aspect_ratio  \n",
       "0                0        0.0             0.402850           0.0  \n",
       "1                0        0.0             0.446961           0.0  \n",
       "2                0        0.0            -0.968159           0.0  \n",
       "3                0        0.0            -0.282654           0.0  \n",
       "4                0        0.0             0.371854           0.0  "
      ]
     },
     "execution_count": 5,
     "metadata": {},
     "output_type": "execute_result"
    }
   ],
   "source": [
    "df.head()"
   ]
  },
  {
   "cell_type": "code",
   "execution_count": 6,
   "id": "eecced61",
   "metadata": {},
   "outputs": [],
   "source": [
    "# Linear regression\n",
    "y = df['relative_absorption'].copy()\n",
    "X = df.drop(['relative_absorption'], axis=1).copy()"
   ]
  },
  {
   "cell_type": "code",
   "execution_count": 7,
   "id": "16f42d8a",
   "metadata": {},
   "outputs": [
    {
     "data": {
      "text/plain": [
       "depth                  False\n",
       "width_top              False\n",
       "width_quarter          False\n",
       "width_half             False\n",
       "width_3quarter         False\n",
       "avg_width              False\n",
       "num_white_pixel        False\n",
       "perimeter              False\n",
       "relative_absorption    False\n",
       "aspect_ratio           False\n",
       "dtype: bool"
      ]
     },
     "execution_count": 7,
     "metadata": {},
     "output_type": "execute_result"
    }
   ],
   "source": [
    "df.isnull().any()"
   ]
  },
  {
   "cell_type": "code",
   "execution_count": 24,
   "id": "361cb569",
   "metadata": {},
   "outputs": [
    {
     "data": {
      "image/png": "[encoded data removed]",
      "text/plain": [
       "<Figure size 432x288 with 1 Axes>"
      ]
     },
     "metadata": {
      "needs_background": "light"
     },
     "output_type": "display_data"
    }
   ],
   "source": [
    "X_train, X_val, y_train, y_val = train_test_split(X, y, train_size=0.75, random_state = 42);\n",
    "sns.distplot(y_train);\n",
    "sns.distplot(y_test);"
   ]
  },
  {
   "cell_type": "markdown",
   "id": "704640af",
   "metadata": {},
   "source": [
    "## Linear regression"
   ]
  },
  {
   "cell_type": "code",
   "execution_count": 25,
   "id": "e698c807",
   "metadata": {},
   "outputs": [
    {
     "data": {
      "text/plain": [
       "LinearRegression()"
      ]
     },
     "execution_count": 25,
     "metadata": {},
     "output_type": "execute_result"
    }
   ],
   "source": [
    "lm = LinearRegression()\n",
    "lm.fit(X_train, y_train)"
   ]
  },
  {
   "cell_type": "code",
   "execution_count": 26,
   "id": "f58539c5",
   "metadata": {},
   "outputs": [
    {
     "data": {
      "text/plain": [
       "Index(['depth', 'width_top', 'width_quarter', 'width_half', 'width_3quarter',\n",
       "       'avg_width', 'num_white_pixel', 'perimeter', 'aspect_ratio'],\n",
       "      dtype='object')"
      ]
     },
     "execution_count": 26,
     "metadata": {},
     "output_type": "execute_result"
    }
   ],
   "source": [
    "X_train.columns"
   ]
  },
  {
   "cell_type": "code",
   "execution_count": 27,
   "id": "181daca0",
   "metadata": {},
   "outputs": [
    {
     "data": {
      "text/plain": [
       "array([ 1.67953212, -0.25422017, -1.55422969, -1.81810184, -2.03143991,\n",
       "        7.96374044, -0.01993391, -0.37699314,  0.21920366])"
      ]
     },
     "execution_count": 27,
     "metadata": {},
     "output_type": "execute_result"
    }
   ],
   "source": [
    "lm.coef_"
   ]
  },
  {
   "cell_type": "code",
   "execution_count": 28,
   "id": "c9aab25c",
   "metadata": {},
   "outputs": [
    {
     "data": {
      "text/plain": [
       "4.160847970885445"
      ]
     },
     "execution_count": 28,
     "metadata": {},
     "output_type": "execute_result"
    }
   ],
   "source": [
    "lm.intercept_"
   ]
  },
  {
   "cell_type": "code",
   "execution_count": 29,
   "id": "b7806fd7",
   "metadata": {},
   "outputs": [
    {
     "name": "stdout",
     "output_type": "stream",
     "text": [
      "R² Training Score: 0.88441 \n"
     ]
    }
   ],
   "source": [
    "y_train_pred = lm.predict(X_train)\n",
    "score = r2_score(y_train, y_train_pred)\n",
    "print(\"R² Training Score: %.5f \"% score)"
   ]
  },
  {
   "cell_type": "code",
   "execution_count": 30,
   "id": "ed86a513",
   "metadata": {},
   "outputs": [
    {
     "name": "stdout",
     "output_type": "stream",
     "text": [
      "R² Testing Score: 0.67410 \n"
     ]
    }
   ],
   "source": [
    "y_val_pred = lm.predict(X_val)\n",
    "score = r2_score(y_val, y_val_pred)\n",
    "print(\"R² Testing Score: %.5f \"% score)"
   ]
  },
  {
   "cell_type": "markdown",
   "id": "75913bbb",
   "metadata": {},
   "source": [
    "## XGBoost"
   ]
  },
  {
   "cell_type": "code",
   "execution_count": 31,
   "id": "e4de8832",
   "metadata": {},
   "outputs": [
    {
     "name": "stdout",
     "output_type": "stream",
     "text": [
      "[0]\tvalidation_0-mae:18.62822\n",
      "[1]\tvalidation_0-mae:14.62234\n",
      "[2]\tvalidation_0-mae:11.83485\n",
      "[3]\tvalidation_0-mae:9.85841\n",
      "[4]\tvalidation_0-mae:8.52458\n",
      "[5]\tvalidation_0-mae:7.68494\n",
      "[6]\tvalidation_0-mae:7.11040\n",
      "[7]\tvalidation_0-mae:6.73050\n",
      "[8]\tvalidation_0-mae:6.47779\n",
      "[9]\tvalidation_0-mae:6.29021\n",
      "[10]\tvalidation_0-mae:6.19307\n",
      "[11]\tvalidation_0-mae:6.11673\n",
      "[12]\tvalidation_0-mae:6.07278\n",
      "[13]\tvalidation_0-mae:6.04545\n",
      "[14]\tvalidation_0-mae:6.03953\n",
      "[15]\tvalidation_0-mae:6.04419\n",
      "[16]\tvalidation_0-mae:6.04206\n",
      "[17]\tvalidation_0-mae:6.04034\n",
      "[18]\tvalidation_0-mae:6.05277\n",
      "[19]\tvalidation_0-mae:6.06098\n",
      "[20]\tvalidation_0-mae:6.04517\n",
      "[21]\tvalidation_0-mae:6.05217\n",
      "[22]\tvalidation_0-mae:6.04014\n",
      "[23]\tvalidation_0-mae:6.03439\n",
      "[24]\tvalidation_0-mae:6.02910\n",
      "[25]\tvalidation_0-mae:6.02649\n",
      "[26]\tvalidation_0-mae:6.02888\n",
      "[27]\tvalidation_0-mae:6.03359\n",
      "[28]\tvalidation_0-mae:6.02558\n",
      "[29]\tvalidation_0-mae:6.02765\n",
      "[30]\tvalidation_0-mae:6.03151\n",
      "[31]\tvalidation_0-mae:6.03061\n",
      "[32]\tvalidation_0-mae:6.02948\n",
      "[33]\tvalidation_0-mae:6.02980\n",
      "[34]\tvalidation_0-mae:6.02704\n",
      "[35]\tvalidation_0-mae:6.02307\n",
      "[36]\tvalidation_0-mae:6.02235\n",
      "[37]\tvalidation_0-mae:6.02264\n",
      "[38]\tvalidation_0-mae:6.02156\n",
      "[39]\tvalidation_0-mae:6.01756\n",
      "[40]\tvalidation_0-mae:6.01827\n",
      "[41]\tvalidation_0-mae:6.01891\n",
      "[42]\tvalidation_0-mae:6.02071\n",
      "[43]\tvalidation_0-mae:6.02246\n",
      "[44]\tvalidation_0-mae:6.02156\n",
      "[45]\tvalidation_0-mae:6.02273\n",
      "[46]\tvalidation_0-mae:6.02104\n",
      "[47]\tvalidation_0-mae:6.02129\n",
      "[48]\tvalidation_0-mae:6.02100\n",
      "[49]\tvalidation_0-mae:6.02236\n",
      "[50]\tvalidation_0-mae:6.02318\n"
     ]
    },
    {
     "data": {
      "text/plain": [
       "XGBRegressor(base_score=0.5, booster='gbtree', colsample_bylevel=1,\n",
       "             colsample_bynode=1, colsample_bytree=1, enable_categorical=False,\n",
       "             gamma=0, gpu_id=-1, importance_type=None,\n",
       "             interaction_constraints='', learning_rate=0.300000012,\n",
       "             max_delta_step=0, max_depth=6, min_child_weight=1, missing=1,\n",
       "             monotone_constraints='()', n_estimators=100, n_jobs=8,\n",
       "             num_parallel_tree=1, predictor='auto', random_state=42,\n",
       "             reg_alpha=0, reg_lambda=1, scale_pos_weight=1, seed=42,\n",
       "             subsample=1, tree_method='exact', validate_parameters=1,\n",
       "             verbosity=0)"
      ]
     },
     "execution_count": 31,
     "metadata": {},
     "output_type": "execute_result"
    }
   ],
   "source": [
    "reg_xgb = xgb.XGBRegressor(verbosity=0, \n",
    "                           objective='reg:squarederror', \n",
    "                           missing=1, \n",
    "                           seed=42)\n",
    "reg_xgb.fit(X_train, \n",
    "            y_train, \n",
    "            eval_metric= 'mae', #'mae', # 'rmsle', 'rmse'\n",
    "            early_stopping_rounds=11,\n",
    "            eval_set=[(X_val, y_val)])"
   ]
  },
  {
   "cell_type": "code",
   "execution_count": 32,
   "id": "607aab4a",
   "metadata": {},
   "outputs": [
    {
     "name": "stdout",
     "output_type": "stream",
     "text": [
      "R² Training Score: 0.94490 \n"
     ]
    }
   ],
   "source": [
    "y_train_pred = reg_xgb.predict(X_train)\n",
    "score = r2_score(y_train, y_train_pred)\n",
    "print(\"R² Training Score: %.5f \"% score)"
   ]
  },
  {
   "cell_type": "code",
   "execution_count": 33,
   "id": "2f185769",
   "metadata": {},
   "outputs": [
    {
     "name": "stdout",
     "output_type": "stream",
     "text": [
      "R² Testing Score: 0.90941 \n"
     ]
    }
   ],
   "source": [
    "y_val_pred = reg_xgb.predict(X_val)\n",
    "score = r2_score(y_val, y_val_pred)\n",
    "print(\"R² Testing Score: %.5f \"% score)"
   ]
  },
  {
   "cell_type": "code",
   "execution_count": 34,
   "id": "58db2125",
   "metadata": {},
   "outputs": [
    {
     "data": {
      "image/png": "[encoded data removed]",
      "text/plain": [
       "<Figure size 432x288 with 1 Axes>"
      ]
     },
     "metadata": {
      "needs_background": "light"
     },
     "output_type": "display_data"
    }
   ],
   "source": [
    "model = reg_xgb\n",
    "xgb.plot_importance(model)\n",
    "plt.title(\"xgboost.plot_importance(model)\")\n",
    "plt.show()"
   ]
  },
  {
   "cell_type": "code",
   "execution_count": 35,
   "id": "77364207",
   "metadata": {},
   "outputs": [
    {
     "data": {
      "text/plain": [
       "[<matplotlib.lines.Line2D at 0x157d4ba60>]"
      ]
     },
     "execution_count": 35,
     "metadata": {},
     "output_type": "execute_result"
    },
    {
     "data": {
      "image/png": "[encoded data removed]",
      "text/plain": [
       "<Figure size 432x288 with 1 Axes>"
      ]
     },
     "metadata": {
      "needs_background": "light"
     },
     "output_type": "display_data"
    }
   ],
   "source": [
    "y = df['relative_absorption']\n",
    "x = np.arange(0,len(y), 1)\n",
    "yp = model.predict(X)\n",
    "plt.plot(x,y)\n",
    "plt.plot(x,yp)"
   ]
  },
  {
   "cell_type": "markdown",
   "id": "1be6dde6",
   "metadata": {},
   "source": [
    "## 2. Test on test_features.csv"
   ]
  },
  {
   "cell_type": "code",
   "execution_count": 52,
   "id": "a6a3ed91",
   "metadata": {},
   "outputs": [
    {
     "data": {
      "text/html": [
       "<div>\n",
       "<style scoped>\n",
       "    .dataframe tbody tr th:only-of-type {\n",
       "        vertical-align: middle;\n",
       "    }\n",
       "\n",
       "    .dataframe tbody tr th {\n",
       "        vertical-align: top;\n",
       "    }\n",
       "\n",
       "    .dataframe thead th {\n",
       "        text-align: right;\n",
       "    }\n",
       "</style>\n",
       "<table border=\"1\" class=\"dataframe\">\n",
       "  <thead>\n",
       "    <tr style=\"text-align: right;\">\n",
       "      <th></th>\n",
       "      <th>depth</th>\n",
       "      <th>width_top</th>\n",
       "      <th>width_quarter</th>\n",
       "      <th>width_half</th>\n",
       "      <th>width_3quarter</th>\n",
       "      <th>avg_width</th>\n",
       "      <th>num_white_pixel</th>\n",
       "      <th>perimeter</th>\n",
       "      <th>relative_absorption</th>\n",
       "      <th>aspect_ratio</th>\n",
       "    </tr>\n",
       "  </thead>\n",
       "  <tbody>\n",
       "    <tr>\n",
       "      <th>0</th>\n",
       "      <td>0</td>\n",
       "      <td>0</td>\n",
       "      <td>0</td>\n",
       "      <td>0</td>\n",
       "      <td>0</td>\n",
       "      <td>0.0</td>\n",
       "      <td>0</td>\n",
       "      <td>0.0</td>\n",
       "      <td>0.82957</td>\n",
       "      <td>0.0</td>\n",
       "    </tr>\n",
       "    <tr>\n",
       "      <th>1</th>\n",
       "      <td>0</td>\n",
       "      <td>0</td>\n",
       "      <td>0</td>\n",
       "      <td>0</td>\n",
       "      <td>0</td>\n",
       "      <td>0.0</td>\n",
       "      <td>0</td>\n",
       "      <td>0.0</td>\n",
       "      <td>-0.54691</td>\n",
       "      <td>0.0</td>\n",
       "    </tr>\n",
       "    <tr>\n",
       "      <th>2</th>\n",
       "      <td>0</td>\n",
       "      <td>0</td>\n",
       "      <td>0</td>\n",
       "      <td>0</td>\n",
       "      <td>0</td>\n",
       "      <td>0.0</td>\n",
       "      <td>0</td>\n",
       "      <td>0.0</td>\n",
       "      <td>1.68580</td>\n",
       "      <td>0.0</td>\n",
       "    </tr>\n",
       "    <tr>\n",
       "      <th>3</th>\n",
       "      <td>0</td>\n",
       "      <td>0</td>\n",
       "      <td>0</td>\n",
       "      <td>0</td>\n",
       "      <td>0</td>\n",
       "      <td>0.0</td>\n",
       "      <td>0</td>\n",
       "      <td>0.0</td>\n",
       "      <td>1.08239</td>\n",
       "      <td>0.0</td>\n",
       "    </tr>\n",
       "    <tr>\n",
       "      <th>4</th>\n",
       "      <td>0</td>\n",
       "      <td>0</td>\n",
       "      <td>0</td>\n",
       "      <td>0</td>\n",
       "      <td>0</td>\n",
       "      <td>0.0</td>\n",
       "      <td>0</td>\n",
       "      <td>0.0</td>\n",
       "      <td>0.99812</td>\n",
       "      <td>0.0</td>\n",
       "    </tr>\n",
       "  </tbody>\n",
       "</table>\n",
       "</div>"
      ],
      "text/plain": [
       "   depth  width_top  width_quarter  width_half  width_3quarter  avg_width  \\\n",
       "0      0          0              0           0               0        0.0   \n",
       "1      0          0              0           0               0        0.0   \n",
       "2      0          0              0           0               0        0.0   \n",
       "3      0          0              0           0               0        0.0   \n",
       "4      0          0              0           0               0        0.0   \n",
       "\n",
       "   num_white_pixel  perimeter  relative_absorption  aspect_ratio  \n",
       "0                0        0.0              0.82957           0.0  \n",
       "1                0        0.0             -0.54691           0.0  \n",
       "2                0        0.0              1.68580           0.0  \n",
       "3                0        0.0              1.08239           0.0  \n",
       "4                0        0.0              0.99812           0.0  "
      ]
     },
     "execution_count": 52,
     "metadata": {},
     "output_type": "execute_result"
    }
   ],
   "source": [
    "path = \"/Users/rubyjiang/Desktop/Keyhole-image-segmentation/application/test_features.csv\"\n",
    "df_test = pd.read_csv(path)\n",
    "df_test['aspect_ratio'] = df_test.apply(get_aspect_ratio, axis=1)\n",
    "df_test.head()"
   ]
  },
  {
   "cell_type": "code",
   "execution_count": 53,
   "id": "5be32a3f",
   "metadata": {},
   "outputs": [],
   "source": [
    "y_test = df_test['relative_absorption'].copy()\n",
    "X_test = df_test.drop(['relative_absorption'], axis=1).copy()"
   ]
  },
  {
   "cell_type": "code",
   "execution_count": 54,
   "id": "53320901",
   "metadata": {},
   "outputs": [
    {
     "name": "stdout",
     "output_type": "stream",
     "text": [
      "R² Testing Score: 0.81622 \n"
     ]
    }
   ],
   "source": [
    "y_test_pred = reg_xgb.predict(X_test)\n",
    "score = r2_score(y_test, y_test_pred)\n",
    "print(\"R² Testing Score: %.5f \"% score)"
   ]
  },
  {
   "cell_type": "code",
   "execution_count": 55,
   "id": "343a8858",
   "metadata": {},
   "outputs": [
    {
     "data": {
      "text/plain": [
       "227"
      ]
     },
     "execution_count": 55,
     "metadata": {},
     "output_type": "execute_result"
    }
   ],
   "source": [
    "len(y_test)"
   ]
  },
  {
   "cell_type": "code",
   "execution_count": 56,
   "id": "79135082",
   "metadata": {},
   "outputs": [
    {
     "data": {
      "text/plain": [
       "[<matplotlib.lines.Line2D at 0x15a4c1fd0>]"
      ]
     },
     "execution_count": 56,
     "metadata": {},
     "output_type": "execute_result"
    },
    {
     "data": {
      "image/png": "[encoded data removed]",
      "text/plain": [
       "<Figure size 432x288 with 1 Axes>"
      ]
     },
     "metadata": {
      "needs_background": "light"
     },
     "output_type": "display_data"
    }
   ],
   "source": [
    "x = np.arange(0,len(y_test), 1)\n",
    "yp = reg_xgb.predict(X_test)\n",
    "plt.plot(x,y_test)\n",
    "plt.plot(x,yp)"
   ]
  },
  {
   "cell_type": "code",
   "execution_count": null,
   "id": "d48c3683",
   "metadata": {},
   "outputs": [],
   "source": []
  }
 ],
 "metadata": {
  "kernelspec": {
   "display_name": "Python 3 (ipykernel)",
   "language": "python",
   "name": "python3"
  },
  "language_info": {
   "codemirror_mode": {
    "name": "ipython",
    "version": 3
   },
   "file_extension": ".py",
   "mimetype": "text/x-python",
   "name": "python",
   "nbconvert_exporter": "python",
   "pygments_lexer": "ipython3",
   "version": "3.9.12"
  }
 },
 "nbformat": 4,
 "nbformat_minor": 5
}
