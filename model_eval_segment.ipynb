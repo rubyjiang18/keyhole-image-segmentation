{
  "cells": [
    {
      "cell_type": "markdown",
      "metadata": {
        "id": "o86gn1nG6DQ3"
      },
      "source": [
        "\n",
        "\n",
        "### Image segementaion model train 2022 Nov\n",
        "\n",
        "\n"
      ]
    },
    {
      "cell_type": "markdown",
      "source": [
        "## 1. Import packages"
      ],
      "metadata": {
        "id": "8Yj608dbS6E3"
      }
    },
    {
      "cell_type": "code",
      "execution_count": null,
      "metadata": {
        "id": "6WblwuyYcJzm"
      },
      "outputs": [],
      "source": [
        "!pip install torchvision --upgrade\n",
        "!pip install grad-cam\n",
        "!pip install timm\n",
        "!pip install imagecodecs\n",
        "!pip install pytorchtools\n",
        "!pip install git+https://github.com/qubvel/segmentation_models.pytorch"
      ]
    },
    {
      "cell_type": "code",
      "execution_count": null,
      "metadata": {
        "id": "lME-yOdUPlEO"
      },
      "outputs": [],
      "source": [
        "import torch\n",
        "import torch.nn as nn\n",
        "import torch.nn.functional as F\n",
        "import torch.optim as optim\n",
        "\n",
        "import torchvision\n",
        "from torchvision.datasets import VisionDataset\n",
        "from torchvision import transforms\n",
        "from torch.utils.data import Dataset, DataLoader, Subset\n",
        "\n",
        "import os \n",
        "from os import path\n",
        "\n",
        "import numpy as np\n",
        "import pandas as pd\n",
        "from scipy.io import loadmat\n",
        "\n",
        "from tqdm import tqdm\n",
        "from PIL import Image\n",
        "\n",
        "# read tiff\n",
        "import zipfile\n",
        "from tifffile import imread\n",
        "from torchvision.transforms import ToTensor\n",
        "import random\n",
        "import csv\n",
        "import matplotlib.pyplot as plt\n",
        "import cv2 as cv"
      ]
    },
    {
      "cell_type": "code",
      "source": [
        "from unet import UNet\n",
        "from keyholeDataset import Keyhole\n",
        "from loss import DiceBCEWithActivationLoss \n",
        "from augmentation import get_training_augmentation, preprocess\n",
        "from utils import plot_2_sidebyside, plot_3_sidebyside, save_model, save_loss_record\n",
        "from train import train\n",
        "from validation import validation\n",
        "import segmentation_models_pytorch as smp\n"
      ],
      "metadata": {
        "id": "cV2IGWBqOtsI"
      },
      "execution_count": null,
      "outputs": []
    },
    {
      "cell_type": "code",
      "source": [],
      "metadata": {
        "id": "FmLun9tNDQuZ"
      },
      "execution_count": null,
      "outputs": []
    },
    {
      "cell_type": "markdown",
      "source": [
        "## 2. Initiate a model"
      ],
      "metadata": {
        "id": "DyJE_hxsDUg2"
      }
    },
    {
      "cell_type": "code",
      "execution_count": null,
      "metadata": {
        "id": "pU6DxoE9wfCp"
      },
      "outputs": [],
      "source": [
        "#model = torch.hub.load('milesial/Pytorch-UNet', 'unet_carvana', pretrained=True, scale=0.5)\n",
        "\n",
        "#model = UNet(n_channels=3, n_classes=1, bilinear=1)\n",
        "\n",
        "\n",
        "# # resnet50, mobilenet_v2,\n",
        "# model = smp.Unet(\n",
        "#     encoder_name=None,        # choose encoder, e.g. mobilenet_v2 or efficientnet-b7\n",
        "#     encoder_weights=\"imagenet\",     # use `imagenet` pre-trained weights for encoder initialization\n",
        "#     in_channels=3,                  # model input channels (1 for gray-scale images, 3 for RGB, etc.)\n",
        "#     classes=1,                      # model output channels (number of classes in your dataset)\n",
        "# )\n",
        "\n",
        "\n",
        "model = smp.DeepLabV3(\n",
        "    encoder_name=\"mobilenet_v2\",        # choose encoder, e.g. mobilenet_v2 or efficientnet-b7\n",
        "    encoder_weights=\"imagenet\",     # use `imagenet` pre-trained weights for encoder initialization\n",
        "    in_channels=3,                  # model input channels (1 for gray-scale images, 3 for RGB, etc.)\n",
        "    classes=1,                      # model output channels (number of classes in your dataset)\n",
        ")\n",
        "\n",
        "\n",
        "model_name = \"Unet_Plain\"\n",
        "\n",
        "torch.cuda.empty_cache()\n",
        "model.cuda()"
      ]
    },
    {
      "cell_type": "code",
      "source": [
        "model.segmentation_head = nn.Sequential(*list(model.segmentation_head.children())[:-1])"
      ],
      "metadata": {
        "id": "MeLDW1162UH6"
      },
      "execution_count": null,
      "outputs": []
    },
    {
      "cell_type": "code",
      "source": [
        "!pwd"
      ],
      "metadata": {
        "id": "xCc0x62mVxD6"
      },
      "execution_count": null,
      "outputs": []
    },
    {
      "cell_type": "code",
      "execution_count": null,
      "metadata": {
        "id": "efmaWFtZG3oU"
      },
      "outputs": [],
      "source": [
        "# #load model\n",
        "#model_path = \"/content/drive/MyDrive/DL_segmentation_models/Unet_Plain_epoch_76\"\n",
        "model_path = \"/content/drive/MyDrive/DL_segmentation_models/DeepLabV3_MobV2_Pretrain_epoch_218\"\n",
        "checkpoint = torch.load(model_path)\n",
        "model.load_state_dict(checkpoint['model_state_dict'])\n",
        "# for key, value in checkpoint.items():\n",
        "#     print(key)"
      ]
    },
    {
      "cell_type": "markdown",
      "source": [
        "## 3. load data + specify batch_size and epochs"
      ],
      "metadata": {
        "id": "XZupFMnMDY3g"
      }
    },
    {
      "cell_type": "code",
      "execution_count": null,
      "metadata": {
        "id": "8RTL_ifQPfi4"
      },
      "outputs": [],
      "source": [
        "!mkdir Keyhole\n",
        "\n",
        "from google.colab import drive\n",
        "drive.mount('/content/drive')\n",
        "\n",
        "with zipfile.ZipFile('/content/drive/MyDrive/DL_segmentation_data/keyhole_segmentation_data.zip', 'r') as zip:\n",
        "  zip.extractall(path='/content/Keyhole')\n",
        "\n",
        "\n",
        "cuda = torch.cuda.is_available()\n",
        "device = torch.device(\"cuda\" if cuda else \"cpu\")\n",
        "num_workers = 4 if cuda else 0\n",
        "print(\"Cuda = \" + str(cuda)+\" with num_workers = \"+str(num_workers))\n"
      ]
    },
    {
      "cell_type": "code",
      "execution_count": null,
      "metadata": {
        "id": "XyMdtFLAUNx1"
      },
      "outputs": [],
      "source": [
        "# need to write config file to make this part elegent\n",
        "batch_size = 3\n",
        "epochs = 300\n",
        "\n",
        "train_dataset = Keyhole('/content/Keyhole/keyhole_segmentation_data', \n",
        "                        transform=get_training_augmentation(),\n",
        "                        preprocess=None,\n",
        "                        mode=\"train\", \n",
        "                        csv_name=\"/image_and_split_1.csv\")\n",
        "val_dataset = Keyhole('/content/Keyhole/keyhole_segmentation_data', \n",
        "                      transform=None, \n",
        "                      preprocess=None, \n",
        "                      mode=\"val\", \n",
        "                      csv_name=\"/image_and_split_1.csv\")\n",
        "test_dataset = Keyhole('/content/Keyhole/keyhole_segmentation_data', \n",
        "                       transform=None, \n",
        "                       preprocess=None, \n",
        "                       mode=\"test\", \n",
        "                       csv_name=\"/image_and_split_1.csv\")\n",
        "\n",
        "print(f\"Train size: {len(train_dataset)}\")\n",
        "print(f\"Valid size: {len(val_dataset)}\")\n",
        "print(f\"Test size: {len(test_dataset)}\")\n",
        "\n",
        "\n",
        "train_loader = DataLoader(train_dataset, batch_size=batch_size, shuffle=True, num_workers=num_workers)\n",
        "val_loader = DataLoader(val_dataset, batch_size=batch_size, shuffle=False, num_workers=1)\n",
        "test_loader = DataLoader(test_dataset, batch_size=batch_size, shuffle=False, num_workers=1)"
      ]
    },
    {
      "cell_type": "code",
      "source": [],
      "metadata": {
        "id": "H1piBInLU7b6"
      },
      "execution_count": null,
      "outputs": []
    },
    {
      "cell_type": "markdown",
      "source": [
        "## 4. Model eval"
      ],
      "metadata": {
        "id": "Gs-pFuFvU_nl"
      }
    },
    {
      "cell_type": "markdown",
      "source": [
        "### 4.1 IoU"
      ],
      "metadata": {
        "id": "auun8qgDVCHe"
      }
    },
    {
      "cell_type": "code",
      "source": [
        "SMOOTH = 1e-6\n",
        "\n",
        "# def iou_pytorch(outputs: torch.Tensor, labels: torch.Tensor):\n",
        "#     # You can comment out this line if you are passing tensors of equal shape\n",
        "#     # But if you are passing output from UNet or something it will most probably\n",
        "#     # be with the BATCH x 1 x H x W shape\n",
        "#     outputs = outputs.squeeze(1)  # BATCH x 1 x H x W => BATCH x H x W\n",
        "    \n",
        "#     intersection = (outputs & labels).float().sum((1, 2))  # Will be zero if Truth=0 or Prediction=0\n",
        "#     union = (outputs | labels).float().sum((1, 2))         # Will be zzero if both are 0\n",
        "    \n",
        "#     iou = (intersection + SMOOTH) / (union + SMOOTH)  # We smooth our devision to avoid 0/0\n",
        "    \n",
        "#     thresholded = torch.clamp(20 * (iou - 0.5), 0, 10).ceil() / 10  # This is equal to comparing with thresolds\n",
        "    \n",
        "#     return thresholded  # Or thresholded.mean() if you are interested in average across the batch\n",
        "    \n",
        "  \n",
        "#   # Numpy version\n",
        "# # Well, it's the same function, so I'm going to omit the comments\n",
        "\n",
        "def iou_numpy(outputs: np.array, labels: np.array):\n",
        "    outputs = outputs #.squeeze(1)\n",
        "    \n",
        "    intersection = (outputs & labels).sum((0, 1))\n",
        "    union = (outputs | labels).sum((0, 1))\n",
        "    \n",
        "    iou = (intersection + SMOOTH) / (union + SMOOTH)\n",
        "    \n",
        "    #thresholded = np.ceil(np.clip(20 * (iou - 0.5), 0, 10)) / 10\n",
        "    \n",
        "    return iou  # Or thresholded.mean()\n",
        "    "
      ],
      "metadata": {
        "id": "3z-5bambu_rn"
      },
      "execution_count": null,
      "outputs": []
    },
    {
      "cell_type": "code",
      "source": [],
      "metadata": {
        "id": "pFO2Zs1ZoRsS"
      },
      "execution_count": null,
      "outputs": []
    },
    {
      "cell_type": "code",
      "execution_count": null,
      "metadata": {
        "id": "cQA5wFlLf0nG"
      },
      "outputs": [],
      "source": [
        "images = []\n",
        "true_masks = []\n",
        "pred_masks = []\n",
        "iou_record = []\n",
        "\n",
        "for i, batch in enumerate(test_loader):\n",
        "      print(\"i = \", i)\n",
        "      x = batch['image'].float().to(device)  #.float().to(device) \n",
        "      y = batch['mask'].float().to(device) \n",
        "      assert(len(x) == len(y))\n",
        "      yp = model(x)\n",
        "      #print(\"x shape\", x.shape) #torch.Size([1, 3, 572, 572])\n",
        "      #print(\"y shape\", y.shape) #torch.Size([1, 1, 572, 572])\n",
        "\n",
        "\n",
        "      for i in range(len(x)):\n",
        "        x_ = x[i].unsqueeze(0)\n",
        "        y_ = y[i].unsqueeze(0)\n",
        "        yp_ = yp[i]\n",
        "\n",
        "        image = x_.detach().cpu().numpy()[0][0].astype(int) #(576,576)\n",
        "        images.append(image)\n",
        "        true_mask = y_.detach().cpu().numpy()[0][0].astype(int)\n",
        "        true_masks.append( true_mask)\n",
        "        pred_mask = (yp_.detach().cpu().numpy()[0]>0).astype(int)\n",
        "        pred_masks.append(pred_mask)\n",
        "        \n",
        "        assert(true_mask.shape == pred_mask.shape)\n",
        "        iou_score = iou_numpy(pred_mask, true_mask)\n",
        "        #plot_2_sidebyside(true_mask, pred_mask)\n",
        "        print(\"iou: \", iou_score)\n",
        "        iou_record.append(iou_score)"
      ]
    },
    {
      "cell_type": "code",
      "source": [
        "np.mean(iou_record)"
      ],
      "metadata": {
        "id": "k6Qqt1BmpdFS"
      },
      "execution_count": null,
      "outputs": []
    },
    {
      "cell_type": "markdown",
      "metadata": {
        "id": "t-YnS4xUz8Uv"
      },
      "source": [
        "### 4.2 IoU of different materials on test data"
      ]
    },
    {
      "cell_type": "code",
      "execution_count": null,
      "metadata": {
        "id": "QjnZnxe5Bqq5"
      },
      "outputs": [],
      "source": [
        "# plt.figure(figsize=(10,10))\n",
        "# plt.plot(train_loss_record)\n",
        "# plt.plot(val_loss_record)"
      ]
    },
    {
      "cell_type": "code",
      "source": [
        "csv_path = \"/content/Keyhole/keyhole_segmentation_data/image_and_split_1.csv\"\n",
        "df = pd.read_csv(csv_path)"
      ],
      "metadata": {
        "id": "QJyHpO-9VV8h"
      },
      "execution_count": null,
      "outputs": []
    },
    {
      "cell_type": "code",
      "source": [
        "test_df = df[df['train_val_test_index']==2]"
      ],
      "metadata": {
        "id": "PwDiQnlwXYfq"
      },
      "execution_count": null,
      "outputs": []
    },
    {
      "cell_type": "code",
      "source": [
        "test_df['iou'] = iou_record"
      ],
      "metadata": {
        "id": "LO85QlPZXcVx"
      },
      "execution_count": null,
      "outputs": []
    },
    {
      "cell_type": "code",
      "source": [
        "test_df['image']"
      ],
      "metadata": {
        "id": "Oz7cTwW5YhXe"
      },
      "execution_count": null,
      "outputs": []
    },
    {
      "cell_type": "code",
      "source": [],
      "metadata": {
        "id": "3QOHrjDZYhg2"
      },
      "execution_count": null,
      "outputs": []
    },
    {
      "cell_type": "code",
      "source": [
        "def label_material (row):\n",
        "  name = row['image']\n",
        "  if 'AA6061' in name:\n",
        "    return 'AA6061'\n",
        "  if 'SS316' in name:\n",
        "    return 'SS316'\n",
        "  if 'IN718' in name:\n",
        "    return 'IN718'\n",
        "  if 'Ti64S' in name:\n",
        "    return 'Ti64S'\n",
        "  if 'Ti64' in name:\n",
        "    return 'Ti64'\n",
        "  else:\n",
        "    return 'Other'"
      ],
      "metadata": {
        "id": "HM_UcQeOXzxs"
      },
      "execution_count": null,
      "outputs": []
    },
    {
      "cell_type": "code",
      "source": [
        "test_df['material'] = test_df.apply (lambda row: label_material(row), axis=1)\n"
      ],
      "metadata": {
        "id": "Ch6BjFXtX_YR"
      },
      "execution_count": null,
      "outputs": []
    },
    {
      "cell_type": "code",
      "source": [
        "test_df.head()"
      ],
      "metadata": {
        "id": "mlcHPf7BZITn"
      },
      "execution_count": null,
      "outputs": []
    },
    {
      "cell_type": "code",
      "source": [
        "test_df.groupby('material').mean()"
      ],
      "metadata": {
        "id": "mJXvBJSnZJoe"
      },
      "execution_count": null,
      "outputs": []
    },
    {
      "cell_type": "code",
      "source": [
        "test_df.groupby('material').std()"
      ],
      "metadata": {
        "id": "m1rkqvTyZM72"
      },
      "execution_count": null,
      "outputs": []
    },
    {
      "cell_type": "code",
      "source": [],
      "metadata": {
        "id": "aiHgYfx-Zerx"
      },
      "execution_count": null,
      "outputs": []
    },
    {
      "cell_type": "markdown",
      "source": [
        "### 4.3 FP and FN superimposed on an image"
      ],
      "metadata": {
        "id": "A2hdZXzbgh4B"
      }
    },
    {
      "cell_type": "code",
      "source": [
        "from skimage.color import gray2rgb"
      ],
      "metadata": {
        "id": "S6oJLhUNnM-O"
      },
      "execution_count": null,
      "outputs": []
    },
    {
      "cell_type": "code",
      "source": [
        "def visualize_prediction_accuracy(prediction, truth):\n",
        "    out = np.zeros(truth.shape, dtype='uint8') #(576, 576, 3)\n",
        "    print(out.shape)\n",
        "    t = np.all(truth == 1, axis=-1)\n",
        "    print\n",
        "    # preds = #[prediction[:,:,i] for i in range(prediction.shape[2])]\n",
        "    p = prediction\n",
        "\n",
        "    out[t & p, :] = [255, 255, 255] # true positive\n",
        "    out[t & ~p, :] = [255, 0, 255] # false negative\n",
        "    out[~t & p, :] = [0, 255, 255] # false positive       \n",
        "    return out\n"
      ],
      "metadata": {
        "id": "Tmf99YjEnYUv"
      },
      "execution_count": null,
      "outputs": []
    },
    {
      "cell_type": "code",
      "source": [
        "i=0\n",
        "true_mask = gray2rgb(true_masks[i]) #(576, 576, 3)\n",
        "\n",
        "pred_mask = pred_masks[i] # (576, 576)\n",
        "\n",
        "out = np.zeros(true_mask.shape, dtype='uint8') #(576, 576, 3)\n",
        "t = np.all(true_mask == 1, axis=-1) #(576, 576)\n",
        "p = pred_mask # (576, 576)\n",
        "\n",
        "channels = [t & p, t & ~p, ~t & p] # true positive (white), false negative (pink), false positive (blue)\n",
        "colors = [[255, 255, 255], [255, 0, 255], [0, 255, 255]]\n",
        "\n",
        "# ch = channels[0]\n",
        "# color = colors[0]\n",
        "for n in range(3):\n",
        "\n",
        "  ch = channels[n]\n",
        "  color = colors[n]\n",
        "\n",
        "  for i in range(ch.shape[0]):\n",
        "    for j in range(ch.shape[1]):\n",
        "      if ch[i, j] == 1:\n",
        "        out[i,j,:] = color\n"
      ],
      "metadata": {
        "id": "xXszppWqgmvO"
      },
      "execution_count": null,
      "outputs": []
    },
    {
      "cell_type": "code",
      "source": [
        "plt.imshow(out[100:300, 200:450, :])"
      ],
      "metadata": {
        "id": "LZaR4liKwAzv"
      },
      "execution_count": null,
      "outputs": []
    },
    {
      "cell_type": "code",
      "source": [],
      "metadata": {
        "id": "eGKgvbVL2pXw"
      },
      "execution_count": null,
      "outputs": []
    }
  ],
  "metadata": {
    "accelerator": "GPU",
    "colab": {
      "machine_shape": "hm",
      "provenance": [],
      "private_outputs": true,
      "collapsed_sections": [
        "o86gn1nG6DQ3"
      ]
    },
    "gpuClass": "premium",
    "kernelspec": {
      "display_name": "Python 3 (ipykernel)",
      "language": "python",
      "name": "python3"
    },
    "language_info": {
      "codemirror_mode": {
        "name": "ipython",
        "version": 3
      },
      "file_extension": ".py",
      "mimetype": "text/x-python",
      "name": "python",
      "nbconvert_exporter": "python",
      "pygments_lexer": "ipython3",
      "version": "3.8.8"
    }
  },
  "nbformat": 4,
  "nbformat_minor": 0
}